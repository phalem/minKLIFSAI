{
 "cells": [
  {
   "cell_type": "code",
   "execution_count": 5,
   "metadata": {},
   "outputs": [],
   "source": [
    "from pathlib import Path\n",
    "from warnings import filterwarnings\n",
    "import pandas as pd\n",
    "import numpy as np\n",
    "import matplotlib.pyplot as plt\n",
    "import seaborn as sns\n",
    "import time\n",
    "import requests\n",
    "from io import StringIO\n",
    "import rdkit\n",
    "from sklearn import svm, metrics, clone\n",
    "from sklearn.ensemble import RandomForestClassifier\n",
    "from sklearn.neural_network import MLPClassifier\n",
    "from sklearn.model_selection import KFold, train_test_split\n",
    "from sklearn.metrics import auc, accuracy_score, recall_score\n",
    "from sklearn.metrics import roc_curve, roc_auc_score\n",
    "from rdkit import Chem\n",
    "from rdkit.Chem import MACCSkeys\n",
    "from rdkit.Chem.AllChem import GetMorganFingerprintAsBitVect\n",
    "from rdkit.Chem.Draw import IPythonConsole\n",
    "from rdkit.Chem import Descriptors\n",
    "from rdkit.Chem import rdmolops\n",
    "from tqdm import tqdm_notebook\n",
    "from rdkit.Chem import Draw\n",
    "from rdkit.Chem import AllChem\n",
    "from rdkit.Chem import SaltRemover\n",
    "from IPython.display import SVG \n",
    "from rdkit.Chem import rdDepictor  \n",
    "from rdkit.Chem.Draw import rdMolDraw2D\n",
    "from rdkit.Chem.MolStandardize import rdMolStandardize\n",
    "from rdkit import RDLogger \n",
    "import json\n",
    "import pickle\n",
    "import os\n",
    "from pathlib import Path\n",
    "import random\n",
    "\n",
    "RDLogger.DisableLog('rdApp.*')\n",
    "import warnings\n",
    "warnings.filterwarnings('ignore')\n",
    "SEED = 22\n",
    "\n",
    "random.seed(22)\n",
    "os.environ[\"PYTHONHASHSEED\"] = str(22)\n",
    "np.random.seed(22)\n",
    "\n",
    "\n",
    "HERE = Path.cwd()\n",
    "s2m = lambda s: Chem.MolFromSmiles(s)\n",
    "m2s = lambda m: Chem.MolToSmiles(m)\n",
    "cancolise = lambda s: m2s(s2m(s)) \n",
    "get_dict_query = lambda q : data[str(int(q))]\n",
    "get_maccs = lambda smiles: np.array(MACCSkeys.GenMACCSKeys(s2m(smiles)))\n",
    "get_mrgn2 = lambda smiles: np.array(GetMorganFingerprintAsBitVect(s2m(smiles), 2, nBits=2048))\n",
    "get_mrgn3 = lambda smiles: np.array(GetMorganFingerprintAsBitVect(s2m(smiles), 3, nBits=2048))\n",
    "\n",
    "with open('id2name_byhand.json','r') as fp:\n",
    "    id2name = json.load(fp)"
   ]
  },
  {
   "cell_type": "code",
   "execution_count": 9,
   "metadata": {
    "scrolled": true
   },
   "outputs": [
    {
     "data": {
      "text/plain": [
       "452"
      ]
     },
     "execution_count": 9,
     "metadata": {},
     "output_type": "execute_result"
    }
   ],
   "source": [
    "len(set(id2name.values()))"
   ]
  },
  {
   "cell_type": "code",
   "execution_count": null,
   "metadata": {},
   "outputs": [],
   "source": [
    "model_name = f\"models/unbalance/{target}/{target}_{model}\"\n"
   ]
  },
  {
   "cell_type": "code",
   "execution_count": 36,
   "metadata": {
    "scrolled": true
   },
   "outputs": [
    {
     "data": {
      "text/plain": [
       "array([0, 0, 0, ..., 0, 0, 0])"
      ]
     },
     "execution_count": 36,
     "metadata": {},
     "output_type": "execute_result"
    }
   ],
   "source": [
    "get_mrgn3_df('CCCCCCCCC')"
   ]
  },
  {
   "cell_type": "code",
   "execution_count": 41,
   "metadata": {},
   "outputs": [],
   "source": [
    "target= 'P19784'\n",
    "target_items =[]\n",
    "DATA = HERE / f\"{target}\"\n",
    "\n",
    "# Getting Data\n",
    "df = df[['id','smiles','active']]\n",
    "data_count = {'Active':int(df.active.sum()),'Inactive':(len(df) - int(df.active.sum()))}\n",
    "target_items.append(data_count)\n",
    "\n",
    "#Dict for saving model information\n",
    "target_only_dict = {}\n",
    "\n",
    "#Getting Descriptor\n",
    "df[\"fp_maccs\"] = df[\"smiles\"].apply(get_maccs) # MACCS descriptor\n",
    "df[\"fp_mrgn\"] = df[\"smiles\"].apply(get_mrgn2)  # MORGAN OR ECFP2 descriptor  \n",
    "fingerprint_maccs = df.fp_maccs.tolist()\n",
    "fingerprint_mrgn = df.fp_mrgn.tolist()\n",
    "\n",
    "#label\n",
    "label = df.active.tolist()\n",
    "\n",
    "\n",
    "\n",
    "for fingerprint in ['maccs','morgan2']:\n",
    "    models = []\n",
    "    if fingerprint == 'maccs':\n",
    "        model_dict = traing_validate_plot_model(DATA,fingerprint, target,fingerprint_maccs, label)\n",
    "    if fingerprint == 'morgan2':\n",
    "        model_dict = traing_validate_plot_model(DATA,fingerprint, target,fingerprint_mrgn, label)\n",
    "        \n",
    "\n",
    "    target_items.append(model_dict)\n",
    "target_only_dict[target] = target_items\n",
    "\n",
    "with open(f'{DATA}/target_{target}.json', 'w') as fp:\n",
    "    json.dump(target_only_dict, fp)\n"
   ]
  },
  {
   "cell_type": "code",
   "execution_count": null,
   "metadata": {},
   "outputs": [],
   "source": [
    "for target in tqdm_notebook(targets):\n",
    "    for model in models:\n",
    "        try:\n",
    "            # Absolute path of a file\n",
    "            old_name = f\"/home/melo/Documents/Pub'/models/unbalance/{target}/{model}\"\n",
    "            new_name = f\"/home/melo/Documents/Pub'/models/unbalance/{target}/{target}_{model}\"\n",
    "\n",
    "            # Renaming the file\n",
    "            os.rename(old_name, new_name)\n",
    "        except:\n",
    "            continue"
   ]
  }
 ],
 "metadata": {
  "kernelspec": {
   "display_name": "Python 3 (ipykernel)",
   "language": "python",
   "name": "python3"
  },
  "language_info": {
   "codemirror_mode": {
    "name": "ipython",
    "version": 3
   },
   "file_extension": ".py",
   "mimetype": "text/x-python",
   "name": "python",
   "nbconvert_exporter": "python",
   "pygments_lexer": "ipython3",
   "version": "3.9.13"
  }
 },
 "nbformat": 4,
 "nbformat_minor": 2
}
